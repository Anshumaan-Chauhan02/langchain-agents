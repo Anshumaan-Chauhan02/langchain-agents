{
 "cells": [
  {
   "cell_type": "markdown",
   "id": "67c502ff",
   "metadata": {},
   "source": [
    "## Basic Prompting"
   ]
  },
  {
   "cell_type": "code",
   "execution_count": 1,
   "id": "21f16a7a",
   "metadata": {},
   "outputs": [],
   "source": [
    "prompt = \"\"\"\n",
    "Answer the user's query based on the context below.\n",
    "If you cannot answer the question using the\n",
    "provided information answer with \"I don't know\".\n",
    "\n",
    "Context: {context}\n",
    "\"\"\""
   ]
  },
  {
   "cell_type": "code",
   "execution_count": null,
   "id": "9d2a6fd5",
   "metadata": {},
   "outputs": [],
   "source": [
    "from langchain.prompts import ChatPromptTemplate\n",
    "\n",
    "# This is equivalent of giving SystemPromptTemplate and HumanPromptTemplate as an input as we saw in LangChain Prompt Basics\n",
    "prompt_template = ChatPromptTemplate.from_messages([\n",
    "    (\"system\", prompt),\n",
    "    (\"user\", \"{query}\"),\n",
    "])"
   ]
  },
  {
   "cell_type": "code",
   "execution_count": 3,
   "id": "bf3b8d7d",
   "metadata": {},
   "outputs": [
    {
     "data": {
      "text/plain": [
       "['context', 'query']"
      ]
     },
     "execution_count": 3,
     "metadata": {},
     "output_type": "execute_result"
    }
   ],
   "source": [
    "prompt_template.input_variables"
   ]
  },
  {
   "cell_type": "markdown",
   "id": "24d1845e",
   "metadata": {},
   "source": [
    "Prompt template expects us to give all these input variable information when we query the LLM"
   ]
  },
  {
   "cell_type": "code",
   "execution_count": 4,
   "id": "f3e7e5d1",
   "metadata": {},
   "outputs": [
    {
     "data": {
      "text/plain": [
       "[SystemMessagePromptTemplate(prompt=PromptTemplate(input_variables=['context'], input_types={}, partial_variables={}, template='\\nAnswer the user\\'s query based on the context below.\\nIf you cannot answer the question using the\\nprovided information answer with \"I don\\'t know\".\\n\\nContext: {context}\\n'), additional_kwargs={}),\n",
       " HumanMessagePromptTemplate(prompt=PromptTemplate(input_variables=['query'], input_types={}, partial_variables={}, template='{query}'), additional_kwargs={})]"
      ]
     },
     "execution_count": 4,
     "metadata": {},
     "output_type": "execute_result"
    }
   ],
   "source": [
    "prompt_template.messages"
   ]
  },
  {
   "cell_type": "code",
   "execution_count": null,
   "id": "e97bb60c",
   "metadata": {},
   "outputs": [],
   "source": [
    "from langchain_ollama import ChatOllama\n",
    "# Low temperature as we do not want model to hallucinate by being creative for the task we are makling it do\n",
    "llm = ChatOllama(model=\"deepseek-r1:1.5b\", temperature=0.0)"
   ]
  },
  {
   "cell_type": "code",
   "execution_count": 6,
   "id": "19411eef",
   "metadata": {},
   "outputs": [],
   "source": [
    "pipeline = prompt_template | llm"
   ]
  },
  {
   "cell_type": "code",
   "execution_count": 7,
   "id": "10b70088",
   "metadata": {},
   "outputs": [],
   "source": [
    "context = \"\"\"Aurelio AI is an AI company developing tooling for AI\n",
    "engineers. Their focus is on language AI with the team having strong\n",
    "expertise in building AI agents and a strong background in\n",
    "information retrieval.\n",
    "\n",
    "The company is behind several open source frameworks, most notably\n",
    "Semantic Router and Semantic Chunkers. They also have an AI\n",
    "Platform providing engineers with tooling to help them build with\n",
    "AI. Finally, the team also provides development services to other\n",
    "organizations to help them bring their AI tech to market.\n",
    "\n",
    "Aurelio AI became LangChain Experts in September 2024 after a long\n",
    "track record of delivering AI solutions built with the LangChain\n",
    "ecosystem.\"\"\"\n",
    "\n",
    "query = \"what does Aurelio AI do?\""
   ]
  },
  {
   "cell_type": "code",
   "execution_count": 9,
   "id": "3ba29fde",
   "metadata": {},
   "outputs": [
    {
     "data": {
      "text/plain": [
       "\"<think>\\nOkay, so I need to figure out what Aurelio AI does based on the context provided. Let me read through the context again carefully.\\n\\nThe context says that Aurelio AI is an AI company focused on language AI. They have a team with expertise in building AI agents and strong background in information retrieval. They are behind several open-source frameworks like Semantic Router and Semantic Chunkers, and they have an AI Platform for engineers to build with LangChain. Additionally, they provide development services to other organizations to help them bring their AI tech to market.\\n\\nSo, putting that together, Aurelio AI seems to be involved in language-related AI solutions. They use open-source frameworks which suggests they might work on creating or improving those tools. Their focus on information retrieval indicates they handle aspects related to retrieving and processing data efficiently. They also have a platform for engineers, so maybe they provide support or services tailored for developers working with AI technologies. Furthermore, their development services imply that they can create solutions for other organizations, helping them integrate AI into their products or systems.\\n\\nI should make sure I'm not missing any key points from the context. The main areas mentioned are language AI frameworks, open-source tools, information retrieval, an AI Platform, and development services. These all seem to tie together as Aurelio AI's role in creating, supporting, and integrating AI technologies across various domains.\\n\\nWait, does the context mention anything about specific applications or industries? It doesn't explicitly state what they work on beyond language AI. So perhaps I should stick to their general focus areas based on the provided information.\\n\\nIn summary, based on the context, Aurelio AI is involved in creating and supporting AI solutions with a strong emphasis on language-related frameworks, open-source tools, and information retrieval. They also provide services for engineers and other organizations to integrate AI into their work.\\n</think>\\n\\nAurelio AI is focused on developing and supporting AI solutions within the domain of language AI. Their key areas include:\\n\\n1. **Language AI Frameworks**: Utilizing open-source tools like Semantic Router and Semantic Chunkers to create or improve these frameworks.\\n\\n2. **Information Retrieval**: Handling aspects related to data retrieval and processing efficiently.\\n\\n3. **AI Platform**: Providing a platform for engineers to build with the LangChain ecosystem, facilitating AI development and integration.\\n\\n4. **Development Services**: Offering support and services tailored for other organizations to help them bring their AI technologies to market.\\n\\nIn essence, Aurelio AI works on creating solutions that enhance language processing and related tasks using advanced frameworks and open-source tools, while also supporting engineers and other organizations in integrating AI into their work.\""
      ]
     },
     "execution_count": 9,
     "metadata": {},
     "output_type": "execute_result"
    }
   ],
   "source": [
    "pipeline.invoke({\"query\": query, \"context\": context}).content"
   ]
  },
  {
   "cell_type": "markdown",
   "id": "0410b799",
   "metadata": {},
   "source": [
    "## Few shot Prompting"
   ]
  },
  {
   "cell_type": "code",
   "execution_count": 11,
   "id": "6b9c8313",
   "metadata": {},
   "outputs": [
    {
     "name": "stdout",
     "output_type": "stream",
     "text": [
      "Human: Here is query #1\n",
      "AI: Here is the answer #1\n",
      "Human: Here is query #2\n",
      "AI: Here is the answer #2\n",
      "Human: Here is query #3\n",
      "AI: Here is the answer #3\n"
     ]
    }
   ],
   "source": [
    "from langchain.prompts import FewShotChatMessagePromptTemplate\n",
    "\n",
    "example_prompt = ChatPromptTemplate.from_messages([\n",
    "    (\"human\", \"{input}\"),\n",
    "    (\"ai\", \"{output}\"),\n",
    "])\n",
    "\n",
    "examples = [\n",
    "    {\"input\": \"Here is query #1\", \"output\": \"Here is the answer #1\"},\n",
    "    {\"input\": \"Here is query #2\", \"output\": \"Here is the answer #2\"},\n",
    "    {\"input\": \"Here is query #3\", \"output\": \"Here is the answer #3\"},\n",
    "]\n",
    "\n",
    "few_shot_prompt = FewShotChatMessagePromptTemplate(\n",
    "    example_prompt=example_prompt,\n",
    "    examples=examples,\n",
    ")\n",
    "\n",
    "print(few_shot_prompt.format())"
   ]
  },
  {
   "cell_type": "code",
   "execution_count": 12,
   "id": "2dcbefe0",
   "metadata": {},
   "outputs": [
    {
     "data": {
      "text/plain": [
       "ChatPromptTemplate(input_variables=['context', 'query'], input_types={}, partial_variables={}, messages=[SystemMessagePromptTemplate(prompt=PromptTemplate(input_variables=['context'], input_types={}, partial_variables={}, template='\\nAnswer the user\\'s query based on the context below.\\nIf you cannot answer the question using the\\nprovided information answer with \"I don\\'t know\".\\n\\nContext: {context}\\n'), additional_kwargs={}), HumanMessagePromptTemplate(prompt=PromptTemplate(input_variables=['query'], input_types={}, partial_variables={}, template='{query}'), additional_kwargs={})])"
      ]
     },
     "execution_count": 12,
     "metadata": {},
     "output_type": "execute_result"
    }
   ],
   "source": [
    "prompt_template"
   ]
  },
  {
   "cell_type": "code",
   "execution_count": null,
   "id": "e2e91cda",
   "metadata": {},
   "outputs": [
    {
     "data": {
      "text/plain": [
       "\"<think>\\nAlright, so I'm trying to figure out what Aurelio AI does. From the context provided earlier, I know that Aurelio AI is an AI company focused on language AI with a strong team expertise in building AI agents and having a solid background in information retrieval. They also have several open-source frameworks like Semantic Router and Semantic Chunkers, and they offer an AI Platform to help engineers build with AI. Additionally, they provide development services to other organizations to bring their AI tech to market.\\n\\nNow, the user is asking specifically about what Aurelio AI does. I need to break this down into key areas of focus based on the information given. First, since they're focused on language AI, that's a primary area. They likely have tools and platforms designed for natural language processing tasks like translation, text generation, summarization, etc.\\n\\nNext, their team expertise in building AI agents suggests they develop models and systems that can perform complex tasks. This could include creating chatbots, virtual assistants, or automated processes that assist with various tasks requiring human-like thinking.\\n\\nThey also mention information retrieval, which means they handle searching and data management efficiently. This could involve optimizing search algorithms, indexing large datasets, or providing tools to help retrieve specific information quickly and effectively.\\n\\nLooking at their open-source frameworks like Semantic Router and Semantic Chunkers, these are likely components of their AI Platform that enable them to process and understand text data more effectively. These tools probably assist in tasks such as tokenization, parsing, and semantic analysis, which are crucial for language models to function well.\\n\\nTheir AI Platform is mentioned as providing engineers with tooling to build with AI, so this platform would offer a centralized environment where they can develop, test, and deploy their AI models efficiently. It might include features like real-time collaboration, automated testing, or integration with other tools and services.\\n\\nFinally, their development services to organizations help them bring their AI tech to market by providing tailored solutions, possibly including customizations of their platforms or integrating new technologies into their existing systems.\\n\\nPutting this all together, Aurelio AI's main areas of focus are language processing, AI platform development, information retrieval, open-source framework integration, and providing tailored development services. They emphasize building robust and efficient AI models through these areas to support a wide range of applications from natural language understanding to advanced automation tasks.\\n</think>\\n\\nAurelio AI is an AI company focused on language AI with several key areas of focus:\\n\\n1. **Language Processing**: \\n   - Develops tools and platforms for natural language processing (NLP) tasks such as translation, text generation, summarization, and more.\\n\\n2. **AI Platform Development**:\\n   - Offers a centralized environment where engineers can develop, test, and deploy AI models efficiently, including features like real-time collaboration and automated testing.\\n\\n3. **Information Retrieval**:\\n   - Manages data retrieval tasks effectively, optimizing search algorithms and indexing large datasets for quick information access.\\n\\n4. **Open-Source Framework Integration**:\\n   - Utilizes frameworks like Semantic Router and Semantic Chunkers to enhance their AI Platform's capabilities in processing and understanding text data through components such as tokenization, parsing, and semantic analysis.\\n\\n5. **Tailored Development Services**:\\n   - Provides organizations with customizations of their platforms and integration opportunities for new technologies, enabling them to bring advanced AI solutions to market effectively.\\n\\nIn summary, Aurelio AI focuses on language processing, AI platform development, information retrieval, open-source framework integration, and tailored development services to support a wide range of applications from NLP tasks to advanced automation.\""
      ]
     },
     "execution_count": 17,
     "metadata": {},
     "output_type": "execute_result"
    }
   ],
   "source": [
    "from IPython.display import display, Markdown\n",
    "\n",
    "new_system_prompt = \"\"\"\n",
    "Answer the user's query based on the context below.                 \n",
    "If you cannot answer the question using the\n",
    "provided information answer with \"I don't know\".\n",
    "\n",
    "Always answer in markdown format. When doing so please\n",
    "provide headers, short summaries, follow with bullet\n",
    "points, then conclude.\n",
    "\n",
    "Context: {context}\n",
    "\"\"\"\n",
    "\n",
    "prompt_template.messages[0].prompt.template = new_system_prompt\n",
    "\n",
    "examples = [\n",
    "    {\n",
    "        \"input\": \"Can you explain gravity?\",\n",
    "        \"output\": (\n",
    "            \"## Gravity\\n\\n\"\n",
    "            \"Gravity is one of the fundamental forces in the universe.\\n\\n\"\n",
    "            \"### Discovery\\n\\n\"\n",
    "            \"* Gravity was first discovered by Sir Isaac Newton in the late 17th century.\\n\"\n",
    "            \"* It was said that Newton theorized about gravity after seeing an apple fall from a tree.\\n\\n\"\n",
    "            \"### In General Relativity\\n\\n\"\n",
    "            \"* Gravity is described as the curvature of spacetime.\\n\"\n",
    "            \"* The more massive an object is, the more it curves spacetime.\\n\"\n",
    "            \"* This curvature is what causes objects to fall towards each other.\\n\\n\"\n",
    "            \"### Gravitons\\n\\n\"\n",
    "            \"* Gravitons are hypothetical particles that mediate the force of gravity.\\n\"\n",
    "            \"* They have not yet been detected.\\n\\n\"\n",
    "            \"**To conclude**, Gravity is a fascinating topic and has been studied extensively since the time of Newton.\\n\\n\"\n",
    "        )\n",
    "    },\n",
    "    {\n",
    "        \"input\": \"What is the capital of France?\",\n",
    "        \"output\": (\n",
    "            \"## France\\n\\n\"\n",
    "            \"The capital of France is Paris.\\n\\n\"\n",
    "            \"### Origins\\n\\n\"\n",
    "            \"* The name Paris comes from the Latin word \\\"Parisini\\\" which referred to a Celtic people living in the area.\\n\"\n",
    "            \"* The Romans named the city Lutetia, which means \\\"the place where the river turns\\\".\\n\"\n",
    "            \"* The city was renamed Paris in the 3rd century BC by the Celtic-speaking Parisii tribe.\\n\\n\"\n",
    "            \"**To conclude**, Paris is highly regarded as one of the most beautiful cities in the world and is one of the world's greatest cultural and economic centres.\\n\\n\"\n",
    "        )\n",
    "    }\n",
    "]\n",
    "\n",
    "\n",
    "few_shot_prompt = FewShotChatMessagePromptTemplate(\n",
    "    example_prompt=example_prompt,\n",
    "    examples=examples,\n",
    ")\n",
    "\n",
    "out = few_shot_prompt.format()\n",
    "prompt_template = ChatPromptTemplate.from_messages([\n",
    "    (\"system\", new_system_prompt),\n",
    "    few_shot_prompt,\n",
    "    (\"user\", \"{query}\"),\n",
    "])\n",
    "pipeline = prompt_template | llm\n",
    "# Few Shot Prompting\n",
    "out = pipeline.invoke({\"query\": query, \"context\": context}).content\n",
    "out"
   ]
  },
  {
   "cell_type": "code",
   "execution_count": 18,
   "id": "1759bb5f",
   "metadata": {},
   "outputs": [
    {
     "data": {
      "text/markdown": [
       "\n",
       "Aurelio AI is an AI company focused on language AI with several key areas of focus:\n",
       "\n",
       "1. **Language Processing**: \n",
       "   - Develops tools and platforms for natural language processing (NLP) tasks such as translation, text generation, summarization, and more.\n",
       "\n",
       "2. **AI Platform Development**:\n",
       "   - Offers a centralized environment where engineers can develop, test, and deploy AI models efficiently, including features like real-time collaboration and automated testing.\n",
       "\n",
       "3. **Information Retrieval**:\n",
       "   - Manages data retrieval tasks effectively, optimizing search algorithms and indexing large datasets for quick information access.\n",
       "\n",
       "4. **Open-Source Framework Integration**:\n",
       "   - Utilizes frameworks like Semantic Router and Semantic Chunkers to enhance their AI Platform's capabilities in processing and understanding text data through components such as tokenization, parsing, and semantic analysis.\n",
       "\n",
       "5. **Tailored Development Services**:\n",
       "   - Provides organizations with customizations of their platforms and integration opportunities for new technologies, enabling them to bring advanced AI solutions to market effectively.\n",
       "\n",
       "In summary, Aurelio AI focuses on language processing, AI platform development, information retrieval, open-source framework integration, and tailored development services to support a wide range of applications from NLP tasks to advanced automation.\"\n"
      ],
      "text/plain": [
       "<IPython.core.display.Markdown object>"
      ]
     },
     "metadata": {},
     "output_type": "display_data"
    }
   ],
   "source": [
    "out = \"\"\"\n",
    "Aurelio AI is an AI company focused on language AI with several key areas of focus:\\n\\n1. **Language Processing**: \\n   - Develops tools and platforms for natural language processing (NLP) tasks such as translation, text generation, summarization, and more.\\n\\n2. **AI Platform Development**:\\n   - Offers a centralized environment where engineers can develop, test, and deploy AI models efficiently, including features like real-time collaboration and automated testing.\\n\\n3. **Information Retrieval**:\\n   - Manages data retrieval tasks effectively, optimizing search algorithms and indexing large datasets for quick information access.\\n\\n4. **Open-Source Framework Integration**:\\n   - Utilizes frameworks like Semantic Router and Semantic Chunkers to enhance their AI Platform's capabilities in processing and understanding text data through components such as tokenization, parsing, and semantic analysis.\\n\\n5. **Tailored Development Services**:\\n   - Provides organizations with customizations of their platforms and integration opportunities for new technologies, enabling them to bring advanced AI solutions to market effectively.\\n\\nIn summary, Aurelio AI focuses on language processing, AI platform development, information retrieval, open-source framework integration, and tailored development services to support a wide range of applications from NLP tasks to advanced automation.\"\n",
    "\"\"\"\n",
    "display(Markdown(out))"
   ]
  },
  {
   "cell_type": "markdown",
   "id": "1ea98cab",
   "metadata": {},
   "source": [
    "## Chain-of-Thought Prompting"
   ]
  },
  {
   "cell_type": "markdown",
   "id": "940c5fd0",
   "metadata": {},
   "source": [
    "To implement CoT we don't need any specific LangChain objects, instead we are simply modifying how we instruct our LLM within the system prompt. We will ask the LLM to list the problems that need to be solved, to solve each problem individually, and then to arrive at the final answer."
   ]
  },
  {
   "cell_type": "code",
   "execution_count": 20,
   "id": "9ec5dfec",
   "metadata": {},
   "outputs": [],
   "source": [
    "cot_system_prompt = \"\"\"\n",
    "Be a helpful assistant and answer the user's question.\n",
    "\n",
    "To answer the question, you must:\n",
    "\n",
    "- List systematically and in precise detail all\n",
    "  subproblems that need to be solved to answer the\n",
    "  question.\n",
    "- Solve each sub problem INDIVIDUALLY and in sequence.\n",
    "- Finally, use everything you have worked through to\n",
    "  provide the final answer.\n",
    "\n",
    "Context: {context}\n",
    "\"\"\"\n",
    "\n",
    "cot_prompt_template = ChatPromptTemplate.from_messages([\n",
    "    (\"system\", cot_system_prompt),\n",
    "    (\"user\", \"{query}\"),\n",
    "])\n",
    "\n",
    "cot_pipeline = cot_prompt_template | llm"
   ]
  },
  {
   "cell_type": "code",
   "execution_count": 22,
   "id": "51b0cec9",
   "metadata": {},
   "outputs": [
    {
     "data": {
      "text/plain": [
       "\"<think>\\nOkay, so I need to figure out what Aurelio AI does based on the provided context. Let me start by reading through the information carefully.\\n\\nThe context mentions that Aurelio AI is an AI company focused on language AI. They have a strong expertise in building AI agents and have a solid background in information retrieval. They are behind several open-source frameworks like Semantic Router and Semantic Chunkers, and they also offer an AI Platform to engineers for tooling. Additionally, they provide development services to other organizations to help them bring their AI tech to market.\\n\\nNow, the user asked me what Aurelio AI does. I need to break this down into subproblems that would be necessary to answer. Let's think about the key areas of Aurelio AI based on the context provided.\\n\\nFirst, since they are focused on language AI and have expertise in building AI agents, it makes sense to mention their work with the LangChain framework as a significant part of what they do. They became LangChain Experts in September 2024 after a long track record, so that's another subproblem—how did they transition into being an expert.\\n\\nNext, their focus on language AI likely involves tasks related to natural language processing (NLP). So I should include NLP as a subproblem under what they do. This would involve explaining how they handle text and speech recognition, maybe even mention other areas like information retrieval since that's part of their background.\\n\\nThey also have open-source frameworks like Semantic Router and Semantic Chunkers. So identifying these as another subproblem makes sense because it shows their commitment to contributing to the AI community by providing tools for others.\\n\\nLastly, they offer an AI Platform aimed at engineers. This would be a separate subproblem under what they do, detailing how this platform helps in building with AI.\\n\\nPutting it all together, I can list these four subproblems systematically and provide detailed answers for each. I should make sure each answer is clear and concise, addressing the specific aspects of Aurelio AI without making assumptions beyond what's provided.\\n</think>\\n\\nAurelio AI is an AI company focused on language AI, with expertise in building AI agents and a strong background in information retrieval. They are behind several open-source frameworks like Semantic Router and Semantic Chunkers and offer an AI Platform aimed at engineers. Here's a structured breakdown of what Aurelio AI does:\\n\\n1. **Language AI Development**: \\n   - Focuses on natural language processing (NLP) tasks, including text and speech recognition.\\n   - Utilizes open-source frameworks such as Semantic Router and Semantic Chunkers to contribute to the AI community.\\n\\n2. **LangChain Expertise**:\\n   - Became LangChain Experts in September 2024 after a long track record, indicating their expertise in integrating LangChain into their work.\\n\\n3. **AI Platform for Engineers**:\\n   - Provides tooling services tailored for engineers to help them build with AI technology effectively.\\n\\nThese subproblems highlight Aurelio AI's areas of focus and contributions within the field of language AI.\""
      ]
     },
     "execution_count": 22,
     "metadata": {},
     "output_type": "execute_result"
    }
   ],
   "source": [
    "cot_result = cot_pipeline.invoke({\"query\": query, \"context\": context}).content\n",
    "cot_result"
   ]
  },
  {
   "cell_type": "code",
   "execution_count": 23,
   "id": "a7ef9396",
   "metadata": {},
   "outputs": [
    {
     "data": {
      "text/markdown": [
       "\n",
       "Aurelio AI is an AI company focused on language AI, with expertise in building AI agents and a strong background in information retrieval. They are behind several open-source frameworks like Semantic Router and Semantic Chunkers and offer an AI Platform aimed at engineers. Here's a structured breakdown of what Aurelio AI does:\n",
       "\n",
       "1. **Language AI Development**: \n",
       "   - Focuses on natural language processing (NLP) tasks, including text and speech recognition.\n",
       "   - Utilizes open-source frameworks such as Semantic Router and Semantic Chunkers to contribute to the AI community.\n",
       "\n",
       "2. **LangChain Expertise**:\n",
       "   - Became LangChain Experts in September 2024 after a long track record, indicating their expertise in integrating LangChain into their work.\n",
       "\n",
       "3. **AI Platform for Engineers**:\n",
       "   - Provides tooling services tailored for engineers to help them build with AI technology effectively.\n",
       "\n",
       "These subproblems highlight Aurelio AI's areas of focus and contributions within the field of language AI.\"\n"
      ],
      "text/plain": [
       "<IPython.core.display.Markdown object>"
      ]
     },
     "metadata": {},
     "output_type": "display_data"
    }
   ],
   "source": [
    "output = \"\"\"\n",
    "Aurelio AI is an AI company focused on language AI, with expertise in building AI agents and a strong background in information retrieval. They are behind several open-source frameworks like Semantic Router and Semantic Chunkers and offer an AI Platform aimed at engineers. Here's a structured breakdown of what Aurelio AI does:\\n\\n1. **Language AI Development**: \\n   - Focuses on natural language processing (NLP) tasks, including text and speech recognition.\\n   - Utilizes open-source frameworks such as Semantic Router and Semantic Chunkers to contribute to the AI community.\\n\\n2. **LangChain Expertise**:\\n   - Became LangChain Experts in September 2024 after a long track record, indicating their expertise in integrating LangChain into their work.\\n\\n3. **AI Platform for Engineers**:\\n   - Provides tooling services tailored for engineers to help them build with AI technology effectively.\\n\\nThese subproblems highlight Aurelio AI's areas of focus and contributions within the field of language AI.\"\n",
    "\"\"\"\n",
    "display(Markdown(output))"
   ]
  }
 ],
 "metadata": {
  "kernelspec": {
   "display_name": ".venv",
   "language": "python",
   "name": "python3"
  },
  "language_info": {
   "codemirror_mode": {
    "name": "ipython",
    "version": 3
   },
   "file_extension": ".py",
   "mimetype": "text/x-python",
   "name": "python",
   "nbconvert_exporter": "python",
   "pygments_lexer": "ipython3",
   "version": "3.12.7"
  }
 },
 "nbformat": 4,
 "nbformat_minor": 5
}
