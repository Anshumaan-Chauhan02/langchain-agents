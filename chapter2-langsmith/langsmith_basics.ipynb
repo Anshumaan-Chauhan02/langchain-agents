{
 "cells": [
  {
   "cell_type": "markdown",
   "id": "19cdc602",
   "metadata": {},
   "source": [
    "LangSmith traces a lot of data without us needing to do anything."
   ]
  },
  {
   "cell_type": "code",
   "execution_count": null,
   "id": "1e9a9e16",
   "metadata": {},
   "outputs": [],
   "source": [
    "import os\n",
    "from getpass import getpass\n",
    "\n",
    "os.environ[\"LANGCHAIN_TRACING_V2\"] = \"true\"\n",
    "os.environ[\"LANGCHAIN_ENDPOINT\"] = \"https://api.smith.langchain.com\"\n",
    "os.environ[\"LANGCHAIN_API_KEY\"] = getpass(\"Enter LangSmith API Key: \")\n",
    "os.environ[\"LANGCHAIN_PROJECT\"] = \"langchain-langsmith-basics-ollama\""
   ]
  },
  {
   "cell_type": "code",
   "execution_count": 1,
   "id": "956bf55b",
   "metadata": {},
   "outputs": [],
   "source": [
    "from langchain_ollama import ChatOllama\n",
    "llm = ChatOllama(model=\"deepseek-r1:1.5b\", temperature=0.2)"
   ]
  },
  {
   "cell_type": "code",
   "execution_count": 4,
   "id": "3e0f90b1",
   "metadata": {},
   "outputs": [
    {
     "data": {
      "text/plain": [
       "'<think>\\n\\n</think>\\n\\nHello! How can I assist you today? 😊'"
      ]
     },
     "execution_count": 4,
     "metadata": {},
     "output_type": "execute_result"
    }
   ],
   "source": [
    "llm.invoke(\"Hello\").content"
   ]
  },
  {
   "cell_type": "markdown",
   "id": "c58f2b89",
   "metadata": {},
   "source": [
    "Now we will be using some non LangChain based functions, and these are not automatically traced by LangSmith. So we need to add the traceable operator to add them."
   ]
  },
  {
   "cell_type": "code",
   "execution_count": null,
   "id": "ff227206",
   "metadata": {},
   "outputs": [],
   "source": [
    "from langsmith import traceable\n",
    "import ollama\n",
    "\n",
    "@traceable\n",
    "def generate_response(question: str):\n",
    "    complete_messages = [\n",
    "        {\"role\": \"system\", \"content\": \"You are a happy assistant\"},\n",
    "        {\"role\": \"user\", \"content\": question}\n",
    "    ]\n",
    "    return ollama.chat(\n",
    "        model=\"deepseek-r1:1.5b\",\n",
    "        messages=complete_messages\n",
    "    )"
   ]
  },
  {
   "cell_type": "code",
   "execution_count": null,
   "id": "dc5fa778",
   "metadata": {},
   "outputs": [],
   "source": [
    "generate_response(\"How are you today?\")"
   ]
  },
  {
   "cell_type": "markdown",
   "id": "633171bc",
   "metadata": {},
   "source": [
    "We can also add metadata into the traceable decorator"
   ]
  },
  {
   "cell_type": "code",
   "execution_count": null,
   "id": "c50cfcab",
   "metadata": {},
   "outputs": [],
   "source": [
    "@traceable(name=\"Sample Ollama Traceable\", metadata={\"Model\": \"Deepseek-R1\"})\n",
    "def generate_response(question: str):\n",
    "    complete_messages = [\n",
    "        {\"role\": \"system\", \"content\": \"You are a happy assistant\"},\n",
    "        {\"role\": \"user\", \"content\": question}\n",
    "    ]\n",
    "    return ollama.chat(\n",
    "        model=\"deepseek-r1:1.5b\",\n",
    "        messages=complete_messages\n",
    "    )"
   ]
  }
 ],
 "metadata": {
  "kernelspec": {
   "display_name": ".venv",
   "language": "python",
   "name": "python3"
  },
  "language_info": {
   "codemirror_mode": {
    "name": "ipython",
    "version": 3
   },
   "file_extension": ".py",
   "mimetype": "text/x-python",
   "name": "python",
   "nbconvert_exporter": "python",
   "pygments_lexer": "ipython3",
   "version": "3.12.7"
  }
 },
 "nbformat": 4,
 "nbformat_minor": 5
}
